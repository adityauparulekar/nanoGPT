{
 "cells": [
  {
   "cell_type": "code",
   "execution_count": 2,
   "metadata": {},
   "outputs": [],
   "source": [
    "import numpy as np\n",
    "from datasets import load_dataset\n",
    "import pandas as pd\n",
    "import matplotlib.pyplot as plt"
   ]
  },
  {
   "cell_type": "code",
   "execution_count": 3,
   "metadata": {},
   "outputs": [
    {
     "name": "stderr",
     "output_type": "stream",
     "text": [
      "Downloading data: 100%|██████████| 120M/120M [00:02<00:00, 51.7MB/s] \n",
      "Downloading data: 100%|██████████| 120M/120M [00:03<00:00, 38.2MB/s] \n",
      "Downloading data: 100%|██████████| 120M/120M [00:03<00:00, 32.1MB/s] \n",
      "Downloading data: 100%|██████████| 120M/120M [00:02<00:00, 57.4MB/s] \n",
      "Downloading data: 100%|██████████| 19.6M/19.6M [00:00<00:00, 26.9MB/s]\n",
      "Generating train split: 1632309 examples [01:00, 26814.45 examples/s]\n"
     ]
    }
   ],
   "source": [
    "dataset = load_dataset(\"nampdn-ai/tiny-codes\")"
   ]
  },
  {
   "cell_type": "code",
   "execution_count": 4,
   "metadata": {},
   "outputs": [],
   "source": [
    "dataset_intermediate = pd.DataFrame(dataset)"
   ]
  },
  {
   "cell_type": "code",
   "execution_count": 5,
   "metadata": {},
   "outputs": [
    {
     "data": {
      "text/plain": [
       "1632309"
      ]
     },
     "execution_count": 5,
     "metadata": {},
     "output_type": "execute_result"
    }
   ],
   "source": [
    "df_dataset = pd.DataFrame(list(dataset_intermediate['train']))\n",
    "len(df_dataset)"
   ]
  },
  {
   "cell_type": "code",
   "execution_count": 6,
   "metadata": {},
   "outputs": [],
   "source": [
    "df_small = df_dataset.sample(n=163230)\n",
    "def clean_data(s):\n",
    "    for c in s:\n",
    "        if c not in '\\n !\"#$%&\\'()*+,-./0123456789:;<=>?@ABCDEFGHIJKLMNOPQRSTUVWXYZ[\\]^_`abcdefghijklmnopqrstuvwxyz{|}~':\n",
    "            return \"\"\n",
    "    return s"
   ]
  },
  {
   "cell_type": "code",
   "execution_count": 10,
   "metadata": {},
   "outputs": [
    {
     "name": "stdout",
     "output_type": "stream",
     "text": [
      "['Neo4j database and Cypher', 'C#', 'Python', 'C++', 'Julia', 'TypeScript', 'Bash', 'relation database and SQL', 'Java', 'JavaScript', 'Ruby', 'Rust', 'Go']\n",
      "{'Python': 129063}\n",
      "{'Python': 129063, 'JavaScript': 131014}\n",
      "{'Python': 129063, 'JavaScript': 131014, 'Java': 123994}\n"
     ]
    }
   ],
   "source": [
    "languages = list(set(df_dataset['programming_language']))\n",
    "print(languages)\n",
    "\n",
    "languages = ['Python', 'JavaScript'] #, 'Java', 'Rust', 'Bash', 'C#', 'C++', 'Go', 'Ruby', 'TypeScript', 'Julia']\n",
    "language_counts = {}\n",
    "\n",
    "for i in range(len(languages)):\n",
    "    if i < 3:\n",
    "        continue\n",
    "    f = open(f'data/code_{i}/code_data.txt', 'w')\n",
    "    curr_languages = languages[:i+1]\n",
    "    for l in curr_languages:\n",
    "        language_entries = df_dataset[df_dataset['programming_language'] == l]['response']\n",
    "        for entry in language_entries:\n",
    "            clean = clean_data(entry)\n",
    "            if clean:\n",
    "                language_counts[l] = len(language_entries)\n",
    "                f.write(clean)\n",
    "    f.close()\n",
    "\n",
    "    print(language_counts)"
   ]
  },
  {
   "cell_type": "code",
   "execution_count": 15,
   "metadata": {},
   "outputs": [],
   "source": [
    "for i in range(5):\n",
    "    f = open(f'data/code_py{i}/code_data.txt', 'w')\n",
    "    python_entries = df_dataset[df_dataset['programming_language'] == \"Python\"].sample(n=int(0.2*(i+1)*129063//2))['response']\n",
    "    for entry in python_entries:\n",
    "        clean = clean_data(entry)\n",
    "        if clean:\n",
    "            f.write(clean)\n",
    "    f.close()"
   ]
  },
  {
   "cell_type": "code",
   "execution_count": 14,
   "metadata": {},
   "outputs": [],
   "source": [
    "for i in range(5):\n",
    "    f = open(f'data/code_py{i}/code_data.txt', 'w')\n",
    "    python_entries = (df_dataset[df_dataset['programming_language'] == \"Python\"].sample(n=int(129063//2)))['response']\n",
    "    j_entries = df_dataset[df_dataset['programming_language'] == \"Java\"].sample(n=int(0.2*(i+1)*129063//2))['response']\n",
    "    for entry in python_entries:\n",
    "        clean = clean_data(entry)\n",
    "        if clean:\n",
    "            f.write(clean)\n",
    "    for entry in j_entries:\n",
    "        clean = clean_data(entry)\n",
    "        if clean:\n",
    "            f.write(clean)\n",
    "    f.close()"
   ]
  },
  {
   "cell_type": "code",
   "execution_count": 23,
   "metadata": {},
   "outputs": [
    {
     "data": {
      "image/png": "[encoded data removed]",
      "text/plain": [
       "<Figure size 640x480 with 1 Axes>"
      ]
     },
     "metadata": {},
     "output_type": "display_data"
    }
   ],
   "source": [
    "small_small =  [217/500, 233/500, 159/500, 168/500, 160/500]\n",
    "small_large = [436/1000, 483/1000, 351/1000, 387/1000, 349/1000]\n",
    "large_large = [524/1000, 553/1000, 489/1000, 488/1000, 427/1000]\n",
    "\n",
    "names = ['Python', 'Java', 'JavaScript', 'Rust', 'Bash']\n",
    "x = np.arange(len(names))\n",
    "kws = dict(width=0.2)\n",
    "plt.bar(x - 0.2, height=small_small, label='500 samples, small dataset', **kws)\n",
    "plt.bar(x, height=small_large, label='1000 samples, small dataset', **kws)\n",
    "plt.bar(x + 0.2, large_large, label='1000 samples, large dataset', **kws)\n",
    "plt.xticks(x, names)\n",
    "plt.legend(loc='lower right')\n",
    "plt.show()"
   ]
  },
  {
   "cell_type": "code",
   "execution_count": 9,
   "metadata": {},
   "outputs": [
    {
     "data": {
      "text/plain": [
       "129063"
      ]
     },
     "execution_count": 9,
     "metadata": {},
     "output_type": "execute_result"
    }
   ],
   "source": [
    "len(df_dataset[df_dataset['programming_language'] == \"Python\"])"
   ]
  },
  {
   "cell_type": "code",
   "execution_count": null,
   "metadata": {},
   "outputs": [],
   "source": []
  }
 ],
 "metadata": {
  "kernelspec": {
   "display_name": "Python 3",
   "language": "python",
   "name": "python3"
  },
  "language_info": {
   "codemirror_mode": {
    "name": "ipython",
    "version": 3
   },
   "file_extension": ".py",
   "mimetype": "text/x-python",
   "name": "python",
   "nbconvert_exporter": "python",
   "pygments_lexer": "ipython3",
   "version": "3.10.14"
  }
 },
 "nbformat": 4,
 "nbformat_minor": 2
}
